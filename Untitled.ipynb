{
 "cells": [
  {
   "cell_type": "code",
   "execution_count": 1,
   "id": "9d5b623c-2e02-42e6-86df-533ae598ad95",
   "metadata": {},
   "outputs": [],
   "source": [
    "from pulp import *\n",
    "v = [[7,9,14,5,1],\n",
    "     [3,8,12,7,6],\n",
    "     [3,6,9,1,13]]\n",
    "c = [2,6,3] # стоимость доставки от станции до складов\n",
    "s = [70,70,150] # емкость складов\n",
    "d = [[26,12,9,66,1],\n",
    "     [65,16,55,9,10]]"
   ]
  },
  {
   "cell_type": "code",
   "execution_count": 4,
   "id": "c757e239-d6e5-4b87-bfd9-8feec40a4d78",
   "metadata": {},
   "outputs": [],
   "source": [
    "xxx1 = [[[0 for _ in range(2)] for _ in range(5)] for _ in range(3)]\n",
    "yyy1 = [[0 for _ in range(2)] for _ in range(3)]"
   ]
  },
  {
   "cell_type": "code",
   "execution_count": 5,
   "id": "230e554c-ac10-49e8-b7fa-5bc3217f6fd8",
   "metadata": {},
   "outputs": [],
   "source": [
    "# целевая функция для анализа чувствительности\n",
    "def obf(xxx,yyy,vvv,ccc, vvvv):\n",
    "    for j in range(5):\n",
    "        vvv[0][j]=vvvv[j]\n",
    "    return sum(xxx[i][j][t]*vvv[i][j] for i in range(3) for j in range(5) for t in range(2))+sum(yyy[i][t]*ccc[i] for i in range(3) for t in range(2))\n",
    "    "
   ]
  },
  {
   "cell_type": "code",
   "execution_count": 6,
   "id": "b9861c4f-9fc2-4162-a422-be34f9fbd09f",
   "metadata": {},
   "outputs": [],
   "source": [
    "# Создаем экземпляр класса LpProblem с определенным типом решаемой задачи (minimize)\n",
    "prob = LpProblem(\"TransportationProblem\", LpMinimize)"
   ]
  },
  {
   "cell_type": "code",
   "execution_count": 7,
   "id": "56994108-e434-4a81-a101-05a213c3d396",
   "metadata": {},
   "outputs": [],
   "source": [
    "# индексы количество товара поставленного от складов до магазинов в заданный период\n",
    "\n",
    "xijt = [(x,y,1) for x in range(1,4) for y in range(1,6)] + [(x,y,2) for x in range(1,4) for y in range(1,6)]\n",
    "# без периодов\n",
    "xij = [(x,y) for x in range(1,4) for y in range(1,6)]"
   ]
  },
  {
   "cell_type": "code",
   "execution_count": 9,
   "id": "f9a6d395-c1a9-4c79-aced-fddeb26e4dfa",
   "metadata": {},
   "outputs": [],
   "source": [
    "#индексы количество товара поставленного от станции до складов в заданный период\n",
    "# yit = [(1,1),(2,1),(3,1),\n",
    "# # второй период\n",
    "# (1,2),(2,2),(3,2)]\n",
    "yit = [(x,y) for x in range(1,4) for y in range(1,3)]\n",
    "yi_ = [[(x,y) for x in range(1,4)] for y in range(1,3)]\n",
    "yi1 = [(1,1),(2,1),(3,1)]\n",
    "yi2 = [(1,2),(2,2),(3,2)]\n",
    "# индексы потребности магазинов в заданный период\n",
    "dtj = [(x,y) for x in range(1,3) for y in range(1,6)]\n",
    "xji = [(x,y) for x in range(1,4) for y in range(1,6)]\n",
    "#индексы для 1го магазина в 1 период\n",
    "xi1 = [[(x,y,1) for x in range(1,4)] for y in range(1,6)]\n",
    "xi11 = [(x,1,1) for x in range(1,4)]\n",
    "xi21 = [(x,2,1) for x in range(1,4)]\n",
    "xi31 = [(x,3,1) for x in range(1,4)]\n",
    "xi41 = [(x,4,1) for x in range(1,4)]\n",
    "xi51 = [(x,5,1) for x in range(1,4)]\n",
    "#второй период\n",
    "xi2 = [[(x,y,2) for x in range(1,4)] for y in range(1,6)]\n",
    "xi12 = [(x,1,2) for x in range(1,4)]\n",
    "xi22 = [(x,2,2) for x in range(1,4)]\n",
    "xi32 = [(x,3,2) for x in range(1,4)]\n",
    "xi42 = [(x,4,2) for x in range(1,4)]\n",
    "xi52 = [(x,5,2) for x in range(1,4)]\n",
    "# индексы склад 1 период\n",
    "xj1_ = [[(y,x,1) for x in range(1,6)] for y in range(1,4)] #по сути это равно xj1\n",
    "x1j1 = [(1,x,1) for x in range(1,6)]\n",
    "x2j1 = [(2,x,1) for x in range(1,6)]\n",
    "x3j1 = [(3,x,1) for x in range(1,6)]\n",
    "# индексы склад 2 период\n",
    "xj2_ = [[(y,x,2) for x in range(1,6)] for y in range(1,4)] #по сути это равно xj2\n",
    "x1j2 = [(1,x,2) for x in range(1,6)]\n",
    "x2j2 = [(2,x,2) for x in range(1,6)]\n",
    "x3j2 = [(3,x,2) for x in range(1,6)]\n",
    "xj1 = [[(y,x,1) for x in range(1,6)] for y in range(1,4)]\n",
    "xj2 = [[(y,x,2) for x in range(1,6)] for y in range(1,4)]\n",
    "yt = [[(x,y)] for x in range(1,4) for y in range(1,3)]\n",
    "y1t = [(1,1),(1,2)]\n",
    "y2t = [(2,1),(2,2)]\n",
    "y3t = [(3,1),(3,2)]"
   ]
  },
  {
   "cell_type": "code",
   "execution_count": 10,
   "id": "500c2866-39e1-4f13-8bd2-7884717306c7",
   "metadata": {},
   "outputs": [],
   "source": [
    "varp1={}\n",
    "for pp in xijt:\n",
    "    varp1[pp]=(LpVariable(\"x(%s,%s,%s)\"%pp,lowBound=0,cat=\"Integer\"))\n",
    "varp2={}\n",
    "for pp in yit:\n",
    "    varp2[pp]=(LpVariable(\"y(%s,%s)\"%pp,lowBound=0,cat=\"Integer\"))\n",
    "# бинарные переменные mtj для учёта того, что на 1 и 2 складах товар расходуется полностью\n",
    "varp3={}\n",
    "for pp in range(1,3):\n",
    "    varp3[pp]=(LpVariable(\"m(%s)\"%pp,lowBound=0,upBound=1,cat=\"Integer\"))"
   ]
  },
  {
   "cell_type": "code",
   "execution_count": 11,
   "id": "0a7b1c67-f872-4408-9fd8-b8f3b1f2464b",
   "metadata": {},
   "outputs": [],
   "source": [
    "# целевая функция\n",
    "of = \"\"\n",
    "for (u1,v1) in xij:\n",
    "    of += lpSum([varp1[(u1,v1,t)]*v[u1-1][v1-1] for t in range(1,3)])\n",
    "for u1 in range(1,4):\n",
    "    of += lpSum([varp2[(u1,t)]*c[u1-1] for t in range(1,3)])\n",
    "prob += of"
   ]
  },
  {
   "cell_type": "code",
   "execution_count": 12,
   "id": "9d23e062-041f-41c3-986a-b54288479dce",
   "metadata": {},
   "outputs": [
    {
     "name": "stdout",
     "output_type": "stream",
     "text": [
      "Оптимальное решение:\n",
      "Общие транспортные расходы = 1899.0\n",
      "Доставлено 1.0 единиц от станции до склада 1 в период 1\n",
      "Доставлено 10.0 единиц от станции до склада 1 в период 2\n",
      "Доставлено 0.0 единиц от станции до склада 2 в период 1\n",
      "Доставлено 0.0 единиц от станции до склада 2 в период 2\n",
      "Доставлено 113.0 единиц от станции до склада 3 в период 1\n",
      "Доставлено 145.0 единиц от станции до склада 3 в период 2\n",
      "Доставлено 0.0 единиц от склада 1 до объекта 1 в период 1\n",
      "Доставлено 0.0 единиц от склада 1 до объекта 2 в период 1\n",
      "Доставлено 0.0 единиц от склада 1 до объекта 3 в период 1\n",
      "Доставлено 0.0 единиц от склада 1 до объекта 4 в период 1\n",
      "Доставлено 1.0 единиц от склада 1 до объекта 5 в период 1\n",
      "Доставлено 0.0 единиц от склада 2 до объекта 1 в период 1\n",
      "Доставлено 0.0 единиц от склада 2 до объекта 2 в период 1\n",
      "Доставлено 0.0 единиц от склада 2 до объекта 3 в период 1\n",
      "Доставлено 0.0 единиц от склада 2 до объекта 4 в период 1\n",
      "Доставлено 0.0 единиц от склада 2 до объекта 5 в период 1\n",
      "Доставлено 26.0 единиц от склада 3 до объекта 1 в период 1\n",
      "Доставлено 12.0 единиц от склада 3 до объекта 2 в период 1\n",
      "Доставлено 9.0 единиц от склада 3 до объекта 3 в период 1\n",
      "Доставлено 66.0 единиц от склада 3 до объекта 4 в период 1\n",
      "Доставлено 0.0 единиц от склада 3 до объекта 5 в период 1\n",
      "Доставлено 0.0 единиц от склада 1 до объекта 1 в период 2\n",
      "Доставлено 0.0 единиц от склада 1 до объекта 2 в период 2\n",
      "Доставлено 0.0 единиц от склада 1 до объекта 3 в период 2\n",
      "Доставлено 0.0 единиц от склада 1 до объекта 4 в период 2\n",
      "Доставлено 10.0 единиц от склада 1 до объекта 5 в период 2\n",
      "Доставлено 0.0 единиц от склада 2 до объекта 1 в период 2\n",
      "Доставлено 0.0 единиц от склада 2 до объекта 2 в период 2\n",
      "Доставлено 0.0 единиц от склада 2 до объекта 3 в период 2\n",
      "Доставлено 0.0 единиц от склада 2 до объекта 4 в период 2\n",
      "Доставлено 0.0 единиц от склада 2 до объекта 5 в период 2\n",
      "Доставлено 65.0 единиц от склада 3 до объекта 1 в период 2\n",
      "Доставлено 16.0 единиц от склада 3 до объекта 2 в период 2\n",
      "Доставлено 55.0 единиц от склада 3 до объекта 3 в период 2\n",
      "Доставлено 9.0 единиц от склада 3 до объекта 4 в период 2\n",
      "Доставлено 0.0 единиц от склада 3 до объекта 5 в период 2\n"
     ]
    }
   ],
   "source": [
    "for (u1,v1,z1) in xijt:\n",
    " # ограничения по емкости складов\n",
    " # и ограничения по потребности магазинов\n",
    "    prob+=varp1[(u1,v1,z1)]<=min(s[u1-1],d[z1-1][v1-1])\n",
    "ss1 = sum(d[0][j] for j in range(5))\n",
    "ss2 = sum(d[1][j] for j in range(5))\n",
    "ss3 = sum(s[j] for j in range(3))\n",
    "for u1 in range(1,4):\n",
    "    prob+=varp2[(u1,1)]<=min(s[u1-1],ss1)\n",
    "    prob+=varp2[(u1,2)]<=min(s[u1-1],ss2)\n",
    "prob+=lpSum([varp2[pp] for pp in yi1])==ss1\n",
    "prob+=lpSum([varp2[pp] for pp in yi2])==ss2\n",
    "for i in range(len(xi1)):\n",
    "    prob+=lpSum([varp1[j] for j in xi1[i]])==d[0][i]\n",
    "    prob+=lpSum([varp1[j] for j in xi2[i]])==d[1][i]\n",
    "\n",
    "for i in range(len(xj1)):\n",
    "    prob += lpSum([varp1[j] for j in xj1[i]]) <= s[i]\n",
    "    prob += lpSum([varp1[j] for j in xj2[i]]) <= s[i]\n",
    "\n",
    "\n",
    "prob+=lpSum([varp2[pp] for pp in yi1])==lpSum([varp1[pp] for pp in x1j1])+lpSum([varp1[pp] for pp in x2j1])+lpSum([varp1[pp] for pp in x3j1])\n",
    "prob+=lpSum([varp2[pp] for pp in yi2])==lpSum([varp1[pp] for pp in x1j2])+lpSum([varp1[pp] for pp in x2j2])+lpSum([varp1[pp] for pp in x3j2])\n",
    "prob+=lpSum([varp2[pp] for pp in y1t])==lpSum([varp1[pp] for pp in x1j1])+lpSum([varp1[pp] for pp in x1j2])\n",
    "prob+=lpSum([varp2[pp] for pp in y2t])==lpSum([varp1[pp] for pp in x2j1])+lpSum([varp1[pp] for pp in x2j2])\n",
    "prob+=lpSum([varp2[pp] for pp in y3t])==lpSum([varp1[pp] for pp in x3j1])+lpSum([varp1[pp] for pp in x3j2])\n",
    "prob+=varp2[(1,1)]==lpSum([varp1[pp] for pp in x1j1])\n",
    "prob+=varp2[(1,2)]==lpSum([varp1[pp] for pp in x1j2])\n",
    "prob+=varp2[(2,1)]==lpSum([varp1[pp] for pp in x2j1])\n",
    "prob+=varp2[(2,2)]==lpSum([varp1[pp] for pp in x2j2])\n",
    "prob+=varp2[(3,1)]==lpSum([varp1[pp] for pp in x3j1])\n",
    "prob+=varp2[(3,2)]==lpSum([varp1[pp] for pp in x3j2])\n",
    "\n",
    "#print(prob)\n",
    "# решаем задачи линейного программирования\n",
    "prob.solve()\n",
    "# выводим оптимальное решение\n",
    "print('Оптимальное решение:')\n",
    "print(f'Общие транспортные расходы = {pulp.value(prob.objective)}')\n",
    "for (i,t) in yit:\n",
    "    print(f'Доставлено {varp2[(i,t)].value()} единиц от станции до склада {i} в период {t}')\n",
    "for (i,j,t) in xijt:\n",
    "    print(f'Доставлено {varp1[(i,j,t)].value()} единиц от склада {i} до объекта {j} в период {t}')\n",
    "\n",
    "for i in range(3):\n",
    "    for j in range(5):\n",
    "        for t in range(2):\n",
    "            xxx1[i][j][t]=varp1[(i+1,j+1,t+1)].value()"
   ]
  },
  {
   "cell_type": "code",
   "execution_count": null,
   "id": "6ffe412b-bdd5-48e1-8cf5-57ffe38acdde",
   "metadata": {},
   "outputs": [],
   "source": [
    "ф"
   ]
  }
 ],
 "metadata": {
  "kernelspec": {
   "display_name": "Python 3 (ipykernel)",
   "language": "python",
   "name": "python3"
  },
  "language_info": {
   "codemirror_mode": {
    "name": "ipython",
    "version": 3
   },
   "file_extension": ".py",
   "mimetype": "text/x-python",
   "name": "python",
   "nbconvert_exporter": "python",
   "pygments_lexer": "ipython3",
   "version": "3.12.3"
  }
 },
 "nbformat": 4,
 "nbformat_minor": 5
}
