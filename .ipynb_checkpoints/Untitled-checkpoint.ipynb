{
 "cells": [
  {
   "cell_type": "code",
   "execution_count": 2,
   "id": "46a5810a-0ebf-43ed-a030-39fb9d4f5cd5",
   "metadata": {},
   "outputs": [],
   "source": [
    "v = [[7,9,14,5,1],\n",
    "[3,8,12,7,6],\n",
    "[3,6,9,1,13]]\n",
    "c = [2,6,3]"
   ]
  },
  {
   "cell_type": "code",
   "execution_count": 3,
   "id": "c7621969-28de-4ec3-a488-c4982bcb216e",
   "metadata": {},
   "outputs": [],
   "source": [
    "s = [70, 70, 1000]"
   ]
  },
  {
   "cell_type": "code",
   "execution_count": 4,
   "id": "8cf3060b-9c30-4159-bab4-fe7a2ae93fb8",
   "metadata": {},
   "outputs": [],
   "source": [
    "from pulp import *"
   ]
  },
  {
   "cell_type": "code",
   "execution_count": 6,
   "id": "2ccc08f5-7538-44d9-9f33-54315cfa7f81",
   "metadata": {},
   "outputs": [],
   "source": [
    "model = LpProblem(\"Транспортная_задача\", LpMinimize)"
   ]
  },
  {
   "cell_type": "code",
   "execution_count": 15,
   "id": "567f3b8f-bbda-4310-aa45-d00b0a91b2ea",
   "metadata": {},
   "outputs": [
    {
     "name": "stdout",
     "output_type": "stream",
     "text": [
      "[(1, 1, 1), (1, 2, 1), (1, 3, 1), (1, 4, 1), (1, 5, 1), (2, 1, 1), (2, 2, 1), (2, 3, 1), (2, 4, 1), (2, 5, 1), (3, 1, 1), (3, 2, 1), (3, 3, 1), (3, 4, 1), (3, 5, 1), (1, 1, 2), (1, 2, 2), (1, 3, 2), (1, 4, 2), (1, 5, 2), (2, 1, 2), (2, 2, 2), (2, 3, 2), (2, 4, 2), (2, 5, 2), (3, 1, 2), (3, 2, 2), (3, 3, 2), (3, 4, 2), (3, 5, 2)]\n"
     ]
    }
   ],
   "source": [
    "xijt = [(x, y, 1) for x in range(1,4) for y in range(1,6)] + [(x, y, 2) for x in range(1,4) for y in range(1,6)]\n",
    "print(xijt)"
   ]
  },
  {
   "cell_type": "code",
   "execution_count": 17,
   "id": "d75aa1f8-8744-40c8-8f20-5f7882e86d7a",
   "metadata": {},
   "outputs": [
    {
     "name": "stdout",
     "output_type": "stream",
     "text": [
      "[(1, 1), (1, 2), (1, 3), (1, 4), (1, 5), (2, 1), (2, 2), (2, 3), (2, 4), (2, 5), (3, 1), (3, 2), (3, 3), (3, 4), (3, 5)]\n"
     ]
    }
   ],
   "source": [
    "xij =[(1,y) for y in range(1,6)] + [(2,y) for y in range(1,6)] + [(3,y) for y in range(1,6)]\n",
    "print(xij)"
   ]
  },
  {
   "cell_type": "code",
   "execution_count": 20,
   "id": "932995fe-7ed5-4b92-89cf-5d71956d325c",
   "metadata": {},
   "outputs": [],
   "source": [
    "yi1 = [(x,1) for x in range(1,4)]\n",
    "yi2 = [(x,2) for x in range(1,4)]\n",
    "yit = yi1+yi2"
   ]
  },
  {
   "cell_type": "code",
   "execution_count": 21,
   "id": "92241f95-dac6-4101-a58d-e6ccbdda8900",
   "metadata": {},
   "outputs": [
    {
     "name": "stdout",
     "output_type": "stream",
     "text": [
      "[(1, 1), (1, 2), (1, 3), (1, 4), (1, 5), (2, 1), (2, 2), (2, 3), (2, 4), (2, 5)]\n"
     ]
    }
   ],
   "source": [
    "dtj = [(x,y) for x in range(1,3) for y in range(1,6)]\n",
    "print(dtj)"
   ]
  },
  {
   "cell_type": "code",
   "execution_count": null,
   "id": "0755dbfb-4bd9-4bca-b006-9fa9729b4502",
   "metadata": {},
   "outputs": [],
   "source": []
  }
 ],
 "metadata": {
  "kernelspec": {
   "display_name": "Python 3 (ipykernel)",
   "language": "python",
   "name": "python3"
  },
  "language_info": {
   "codemirror_mode": {
    "name": "ipython",
    "version": 3
   },
   "file_extension": ".py",
   "mimetype": "text/x-python",
   "name": "python",
   "nbconvert_exporter": "python",
   "pygments_lexer": "ipython3",
   "version": "3.11.9"
  }
 },
 "nbformat": 4,
 "nbformat_minor": 5
}
